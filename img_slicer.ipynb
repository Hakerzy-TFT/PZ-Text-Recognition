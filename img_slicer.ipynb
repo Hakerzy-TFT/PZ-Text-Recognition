{
 "cells": [
  {
   "cell_type": "code",
   "execution_count": 3,
   "id": "5cdcef18",
   "metadata": {},
   "outputs": [
    {
     "output_type": "stream",
     "name": "stdout",
     "text": [
      "imported slicer\n",
      "imported numpy\n",
      "4.5.1\n",
      "imported cv2\n"
     ]
    },
    {
     "output_type": "execute_result",
     "data": {
      "text/plain": [
       "-1"
      ]
     },
     "metadata": {},
     "execution_count": 3
    }
   ],
   "source": [
    "\n",
    "from image_slicer import slice\n",
    "from PIL import Image\n",
    "print(\"imported slicer\")\n",
    "import numpy\n",
    "print(\"imported numpy\")\n",
    "import cv2\n",
    "print(cv2.__version__)\n",
    "print(\"imported cv2\")\n",
    "file = \"./image/a.png\"\n",
    "imgg = Image.open(file)\n",
    "thresh = 200\n",
    "fn = lambda x : 255 if x > thresh else 0\n",
    "r = imgg.convert('L').point(fn, mode='1')\n",
    "r.save('./image/aa.png')\n",
    "\n",
    "img = cv2.imread(\"./image/aa.png\")\n",
    "cv2.imshow(\"source image\", img)\n",
    "cv2.waitKey(0)\n",
    "\n"
   ]
  },
  {
   "cell_type": "code",
   "execution_count": 88,
   "id": "48b4a4f7",
   "metadata": {
    "tags": []
   },
   "outputs": [
    {
     "output_type": "stream",
     "name": "stdout",
     "text": [
      "[0, 0, 0, 0, 0, 1, 1, 0, 0, 0, 0, 0, 0, 0, 0, 0, 0, 0, 0, 0, 0, 0, 0, 0, 0, 0, 0, 0, 0, 0, 0, 0, 0, 0, 0, 0, 0, 0, 0, 0]\n[0, 0, 0, 0, 1, 1, 1, 0, 0, 0, 0, 0, 0, 1, 0, 0, 0, 0, 0, 0, 0, 0, 0, 0, 0, 0, 0, 0, 0, 0, 0, 0, 0, 0, 0, 0, 0, 0, 0, 0]\n[0, 0, 0, 0, 1, 1, 1, 0, 0, 0, 0, 0, 0, 1, 0, 0, 0, 0, 0, 0, 0, 0, 0, 0, 0, 0, 0, 0, 0, 0, 0, 0, 0, 0, 0, 0, 0, 0, 0, 0]\n[0, 0, 0, 1, 1, 0, 1, 1, 0, 0, 0, 0, 0, 1, 0, 0, 0, 0, 0, 1, 1, 1, 1, 1, 0, 0, 0, 0, 0, 0, 0, 0, 0, 0, 0, 0, 0, 0, 0, 0]\n[0, 0, 0, 1, 1, 1, 1, 1, 0, 0, 0, 0, 0, 1, 0, 0, 0, 0, 0, 1, 1, 0, 0, 1, 1, 0, 0, 0, 0, 0, 0, 0, 0, 0, 0, 0, 0, 0, 0, 0]\n[0, 0, 0, 1, 0, 0, 0, 1, 1, 0, 0, 0, 0, 1, 0, 1, 0, 0, 0, 1, 1, 0, 0, 1, 1, 0, 0, 0, 0, 0, 0, 0, 0, 0, 0, 0, 0, 0, 0, 0]\n[0, 0, 0, 1, 0, 0, 0, 0, 1, 0, 0, 0, 0, 1, 1, 1, 0, 0, 0, 1, 1, 1, 1, 1, 1, 1, 0, 0, 0, 0, 0, 0, 0, 0, 0, 0, 0, 0, 0, 0]\n[0, 0, 0, 1, 0, 0, 0, 0, 1, 0, 0, 0, 0, 0, 0, 0, 0, 0, 0, 0, 0, 0, 0, 0, 0, 0, 0, 0, 0, 0, 0, 0, 0, 0, 0, 0, 0, 0, 0, 0]\n[0, 0, 0, 0, 0, 0, 0, 0, 0, 0, 0, 0, 0, 0, 0, 0, 0, 0, 0, 0, 0, 0, 0, 0, 0, 0, 0, 0, 0, 0, 0, 0, 0, 0, 0, 0, 0, 0, 0, 0]\n[0, 0, 0, 0, 0, 0, 0, 0, 0, 0, 0, 0, 0, 0, 0, 0, 0, 0, 0, 0, 0, 0, 0, 0, 0, 0, 0, 0, 0, 0, 0, 0, 0, 0, 0, 0, 0, 0, 0, 0]\n"
     ]
    }
   ],
   "source": [
    "import numpy as np\n",
    "import matplotlib.pyplot as plt\n",
    "from PIL import Image\n",
    "import cv2\n",
    "import os\n",
    "\n",
    "\n",
    "wr, hr = 40, 10\n",
    "imageArray = [[0 for x in range(wr)] for y in range(hr)]\n",
    "cleanArray = [[0 for x in range(wr)] for y in range(hr)]\n",
    "\n",
    "w=0\n",
    "h=0\n",
    "counter=0\n",
    "key=[0, 0, 0]\n",
    "file = \"./image/test.png\"\n",
    "img = Image.open(file)\n",
    "thresh = 200\n",
    "fn = lambda x : 255 if x > thresh else 0\n",
    "r = img.convert('L').point(fn, mode='1')\n",
    "r.save(file)\n",
    "imgRead = cv2.imread(file)\n",
    "ar = np.array(imgRead)\n",
    "for r in range(0,imgRead.shape[0],10):\n",
    "    # print(\"petla pierwsza wykonalem sie h=\",h,\" raz\")\n",
    "    for c in range(0,imgRead.shape[1],10):\n",
    "        # print(\"petla druga wykonalem sie w=\",w,\" raz\")\n",
    "        cv2.imwrite(f\"./imageSplitted/img{r}_{c}.png\",imgRead[r:r+10, c:c+10,:])\n",
    "        image = Image.open(f\"./imageSplitted/img{r}_{c}.png\")\n",
    "        imageArray[h][w]=np.array(image)\n",
    "        if np.any(imageArray[h][w] == key) != True:\n",
    "            cleanArray[h][w]=0\n",
    "        else:\n",
    "            counter+=1\n",
    "            cleanArray[h][w]=1\n",
    "        try: \n",
    "            os.remove(f\"./imageSplitted/img{r}_{c}.png\")\n",
    "        except: pass   \n",
    "        w+=1         \n",
    "    h+=1\n",
    "    w=0\n",
    "for c in cleanArray:\n",
    "    print(c)"
   ]
  },
  {
   "cell_type": "code",
   "execution_count": 89,
   "metadata": {
    "tags": []
   },
   "outputs": [
    {
     "output_type": "stream",
     "name": "stdout",
     "text": [
      "\n[0 0 0 5 4 4 5 3 3 0 0 0 0 6 1 2 0 0 0 4 4 2 2 4 3 1 0 0 0 0 0 0 0 0 0 0 0\n 0 0 0]\n[0 0 0 1 1 1 1 1 1 0 0 0 0 1 1 1 0 0 0 1 1 1 1 1 1 1 0 0 0 0 0 0 0 0 0 0 0\n 0 0 0]\n0\n0\n0\nfirst 2\n1\n2\n3\n4\n5\nlast 8\n6\n0\n0\n0\n0\nfirst 12\n1\n2\nlast 15\n3\n0\n0\n0\nfirst 18\n1\n2\n3\n4\n5\n6\nlast 25\n7\n0\n0\n0\n0\n0\n0\n0\n0\n0\n0\n0\n0\n0\n0\n3.0\n[3, 8, 13, 15, 19, 25]\n0 0 0 0 0 1 1 0 0 0 0 0 0 0 0 0 0 0 0 0 0 0 0 0 0 0 0 0 0 0 0 0 0 0 0 0 0 0 0 0 \n0 0 0 0 1 1 1 0 0 0 0 0 0 1 0 0 0 0 0 0 0 0 0 0 0 0 0 0 0 0 0 0 0 0 0 0 0 0 0 0 \n0 0 0 0 1 1 1 0 0 0 0 0 0 1 0 0 0 0 0 0 0 0 0 0 0 0 0 0 0 0 0 0 0 0 0 0 0 0 0 0 \n0 0 0 1 1 0 1 1 0 0 0 0 0 1 0 0 0 0 0 1 1 1 1 1 0 0 0 0 0 0 0 0 0 0 0 0 0 0 0 0 \n0 0 0 1 1 1 1 1 0 0 0 0 0 1 0 0 0 0 0 1 1 0 0 1 1 0 0 0 0 0 0 0 0 0 0 0 0 0 0 0 \n0 0 0 1 0 0 0 1 1 0 0 0 0 1 0 1 0 0 0 1 1 0 0 1 1 0 0 0 0 0 0 0 0 0 0 0 0 0 0 0 \n0 0 0 1 0 0 0 0 1 0 0 0 0 1 1 1 0 0 0 1 1 1 1 1 1 1 0 0 0 0 0 0 0 0 0 0 0 0 0 0 \n0 0 0 1 0 0 0 0 1 0 0 0 0 0 0 0 0 0 0 0 0 0 0 0 0 0 0 0 0 0 0 0 0 0 0 0 0 0 0 0 \n0 0 0 0 0 0 0 0 0 0 0 0 0 0 0 0 0 0 0 0 0 0 0 0 0 0 0 0 0 0 0 0 0 0 0 0 0 0 0 0 \n0 0 0 0 0 0 0 0 0 0 0 0 0 0 0 0 0 0 0 0 0 0 0 0 0 0 0 0 0 0 0 0 0 0 0 0 0 0 0 0 \n[0, 0, 1, 1, 0, 0]\n[0, 1, 1, 1, 0, 0]\n[0, 1, 1, 1, 0, 0]\n[1, 1, 0, 1, 1, 0]\n[1, 1, 1, 1, 1, 0]\n[1, 0, 0, 0, 1, 1]\n[1, 0, 0, 0, 0, 1]\n[1, 0, 0, 0, 0, 1]\n[0, 0, 0, 0, 0, 0]\n[0, 0, 0, 0, 0, 0]\n[0, 0, 0]\n[1, 0, 0]\n[1, 0, 0]\n[1, 0, 0]\n[1, 0, 0]\n[1, 0, 1]\n[1, 1, 1]\n[0, 0, 0]\n[0, 0, 0]\n[0, 0, 0]\n[0, 0, 0, 0, 0, 0, 0]\n[0, 0, 0, 0, 0, 0, 0]\n[0, 0, 0, 0, 0, 0, 0]\n[1, 1, 1, 1, 1, 0, 0]\n[1, 1, 0, 0, 1, 1, 0]\n[1, 1, 0, 0, 1, 1, 0]\n[1, 1, 1, 1, 1, 1, 1]\n[0, 0, 0, 0, 0, 0, 0]\n[0, 0, 0, 0, 0, 0, 0]\n[0, 0, 0, 0, 0, 0, 0]\n"
     ]
    }
   ],
   "source": [
    "\n",
    "cleanArray\n",
    "arr=np.sum(cleanArray,axis=0)\n",
    "print()\n",
    "print (arr)\n",
    "sum=0\n",
    "List= []\n",
    "ListOfArrays= []\n",
    "i=0\n",
    "j=0\n",
    "letterLength=0\n",
    "for e in range (40):\n",
    "    if arr[e] !=0:\n",
    "        arr[e]=1\n",
    "    \n",
    "print (arr)\n",
    "for ee in range (40):\n",
    "    if arr[ee] != 0:\n",
    "        if(arr[ee]*arr[ee+1]==0):\n",
    "            letterLength+=1\n",
    "            print(\"last\",ee)\n",
    "            List.append(ee)\n",
    "        else:\n",
    "            letterLength+=1\n",
    "        print(letterLength)\n",
    "    else:\n",
    "        print(0)\n",
    "        if(ee<39):\n",
    "            if(arr[ee]+arr[ee+1]==1):\n",
    "                print(\"first\",ee)\n",
    "                List.append(ee+1)\n",
    "                letterLength=0\n",
    "\n",
    "letters=(len(List))/2\n",
    "print(letters)\n",
    "print(List)   \n",
    "\n",
    "for rows in range (10):  # outer loop  \n",
    "        for columns in range (40):  # inner loop\n",
    "            print(cleanArray[rows][columns], end = \" \") # print the elements \n",
    "        print() \n",
    "wrr, hrr = 40, 10      \n",
    "for xx in range (int(letters)):\n",
    "    sthArray = [[0 for y in range(List[1+(2*xx)]-List[0+(2*xx)]+1)] for x in range(hrr)]\n",
    "    # print(\"nowa iteracja\")\n",
    "    for rows in range (10):  # outer loop  \n",
    "        for columns in range (40):  # inner loop\n",
    "            if columns>= List[0+(2*xx)] and columns  <= List[1+(2*xx)]:\n",
    "                sthArray[rows][columns-List[0+(2*xx)]]=cleanArray[rows][columns]\n",
    "                # print(\"kolumna: \",columns)\n",
    "                # print(\"wiersz: \",rows)\n",
    "    for c in sthArray:\n",
    "        print(c)\n",
    "    ListOfArrays.append(sthArray)\n",
    "\n",
    "    \n",
    "\n",
    "\n",
    "\n",
    "        \n",
    "\n",
    "    \n",
    "\n",
    "\n",
    "\n"
   ]
  },
  {
   "cell_type": "code",
   "execution_count": 92,
   "metadata": {},
   "outputs": [
    {
     "output_type": "execute_result",
     "data": {
      "text/plain": [
       "[[0, 0, 0, 0, 0, 0, 0],\n",
       " [0, 0, 0, 0, 0, 0, 0],\n",
       " [0, 0, 0, 0, 0, 0, 0],\n",
       " [1, 1, 1, 1, 1, 0, 0],\n",
       " [1, 1, 0, 0, 1, 1, 0],\n",
       " [1, 1, 0, 0, 1, 1, 0],\n",
       " [1, 1, 1, 1, 1, 1, 1],\n",
       " [0, 0, 0, 0, 0, 0, 0],\n",
       " [0, 0, 0, 0, 0, 0, 0],\n",
       " [0, 0, 0, 0, 0, 0, 0]]"
      ]
     },
     "metadata": {},
     "execution_count": 92
    }
   ],
   "source": [
    "ListOfArrays[2]\n",
    "    "
   ]
  },
  {
   "cell_type": "code",
   "execution_count": null,
   "metadata": {},
   "outputs": [],
   "source": []
  }
 ],
 "metadata": {
  "kernelspec": {
   "name": "python394jvsc74a57bd0ac59ebe37160ed0dfa835113d9b8498d9f09ceb179beaac4002f036b9467c963",
   "display_name": "Python 3.9.4 64-bit"
  },
  "language_info": {
   "codemirror_mode": {
    "name": "ipython",
    "version": 3
   },
   "file_extension": ".py",
   "mimetype": "text/x-python",
   "name": "python",
   "nbconvert_exporter": "python",
   "pygments_lexer": "ipython3",
   "version": "3.9.4"
  }
 },
 "nbformat": 4,
 "nbformat_minor": 5
}