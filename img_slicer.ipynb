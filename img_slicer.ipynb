{
 "cells": [
  {
   "cell_type": "code",
   "execution_count": 47,
   "id": "5cdcef18",
   "metadata": {},
   "outputs": [
    {
     "output_type": "stream",
     "name": "stdout",
     "text": [
      "imported slicer\nimported numpy\n4.5.1\nimported cv2\n"
     ]
    },
    {
     "output_type": "execute_result",
     "data": {
      "text/plain": [
       "-1"
      ]
     },
     "metadata": {},
     "execution_count": 47
    }
   ],
   "source": [
    "\n",
    "from image_slicer import slice\n",
    "from PIL import Image\n",
    "print(\"imported slicer\")\n",
    "import numpy\n",
    "print(\"imported numpy\")\n",
    "import cv2\n",
    "print(cv2.__version__)\n",
    "print(\"imported cv2\")\n",
    "file = \"./image/a.png\"\n",
    "imgg = Image.open(file)\n",
    "thresh = 200\n",
    "fn = lambda x : 255 if x > thresh else 0\n",
    "r = imgg.convert('L').point(fn, mode='1')\n",
    "r.save('./image/aa.png')\n",
    "\n",
    "img = cv2.imread(\"./image/aa.png\")\n",
    "cv2.imshow(\"source image\", img)\n",
    "cv2.waitKey(0)\n",
    "\n"
   ]
  },
  {
   "cell_type": "code",
   "execution_count": 53,
   "id": "48b4a4f7",
   "metadata": {
    "tags": []
   },
   "outputs": [
    {
     "output_type": "stream",
     "name": "stdout",
     "text": [
      "[0, 0, 0, 0, 0, 1, 1, 0, 0, 0, 0, 0, 0, 0, 0, 0, 0, 0, 0, 0, 0, 0, 0, 0, 0, 0, 0, 0, 0, 0, 0, 0, 0, 0, 0, 0, 0, 0, 0, 0]\n[0, 0, 0, 0, 1, 1, 1, 0, 0, 0, 0, 0, 0, 1, 0, 0, 0, 0, 0, 0, 0, 0, 0, 0, 0, 0, 0, 0, 0, 0, 0, 0, 0, 0, 0, 0, 0, 0, 0, 0]\n[0, 0, 0, 0, 1, 1, 1, 0, 0, 0, 0, 0, 0, 1, 0, 0, 0, 0, 0, 0, 0, 0, 0, 0, 0, 0, 0, 0, 0, 0, 0, 0, 0, 0, 0, 0, 0, 0, 0, 0]\n[0, 0, 0, 1, 1, 0, 1, 1, 0, 0, 0, 0, 0, 1, 0, 0, 0, 0, 0, 1, 1, 1, 1, 1, 0, 0, 0, 0, 0, 0, 0, 0, 0, 0, 0, 0, 0, 0, 0, 0]\n[0, 0, 0, 1, 1, 1, 1, 1, 0, 0, 0, 0, 0, 1, 0, 0, 0, 0, 0, 1, 1, 0, 0, 1, 1, 0, 0, 0, 0, 0, 0, 0, 0, 0, 0, 0, 0, 0, 0, 0]\n[0, 0, 0, 1, 0, 0, 0, 1, 1, 0, 0, 0, 0, 1, 0, 1, 0, 0, 0, 1, 1, 0, 0, 1, 1, 0, 0, 0, 0, 0, 0, 0, 0, 0, 0, 0, 0, 0, 0, 0]\n[0, 0, 0, 1, 0, 0, 0, 0, 1, 0, 0, 0, 0, 1, 1, 1, 0, 0, 0, 1, 1, 1, 1, 1, 1, 1, 0, 0, 0, 0, 0, 0, 0, 0, 0, 0, 0, 0, 0, 0]\n[0, 0, 0, 1, 0, 0, 0, 0, 1, 0, 0, 0, 0, 0, 0, 0, 0, 0, 0, 0, 0, 0, 0, 0, 0, 0, 0, 0, 0, 0, 0, 0, 0, 0, 0, 0, 0, 0, 0, 0]\n[0, 0, 0, 0, 0, 0, 0, 0, 0, 0, 0, 0, 0, 0, 0, 0, 0, 0, 0, 0, 0, 0, 0, 0, 0, 0, 0, 0, 0, 0, 0, 0, 0, 0, 0, 0, 0, 0, 0, 0]\n[0, 0, 0, 0, 0, 0, 0, 0, 0, 0, 0, 0, 0, 0, 0, 0, 0, 0, 0, 0, 0, 0, 0, 0, 0, 0, 0, 0, 0, 0, 0, 0, 0, 0, 0, 0, 0, 0, 0, 0]\n"
     ]
    }
   ],
   "source": [
    "import numpy as np\n",
    "import matplotlib.pyplot as plt\n",
    "from PIL import Image\n",
    "import cv2\n",
    "import os\n",
    "\n",
    "\n",
    "wr, hr = 40, 10\n",
    "imageArray = [[0 for x in range(wr)] for y in range(hr)]\n",
    "cleanArray = [[0 for x in range(wr)] for y in range(hr)]\n",
    "w=0\n",
    "h=0\n",
    "counter=0\n",
    "key=[0, 0, 0]\n",
    "file = \"./image/test.png\"\n",
    "img = Image.open(file)\n",
    "thresh = 200\n",
    "fn = lambda x : 255 if x > thresh else 0\n",
    "r = img.convert('L').point(fn, mode='1')\n",
    "r.save(file)\n",
    "imgRead = cv2.imread(file)\n",
    "ar = np.array(imgRead)\n",
    "# file = open(\"originalArray.txt\", \"w\")\n",
    "# for row in ar:\n",
    "#     np.savetxt(file, row)\n",
    "# file.close()\n",
    "# # originalArray = np.loadtxt(\"originalArray.txt\")\n",
    "# smallList= np.hsplit(ar,2)\n",
    "# smallArray=np.asarray(smallList)\n",
    "# file = open(\"test.txt\", \"w\")\n",
    "# for row2 in smallArray[0]:\n",
    "#     np.savetxt(file, row2)\n",
    "# file.close()\n",
    "for r in range(0,imgRead.shape[0],10):\n",
    "    # print(\"petla pierwsza wykonalem sie h=\",h,\" raz\")\n",
    "    for c in range(0,imgRead.shape[1],10):\n",
    "        # print(\"petla druga wykonalem sie w=\",w,\" raz\")\n",
    "        cv2.imwrite(f\"./imageSplitted/img{r}_{c}.png\",imgRead[r:r+10, c:c+10,:])\n",
    "        image = Image.open(f\"./imageSplitted/img{r}_{c}.png\")\n",
    "        imageArray[h][w]=np.array(image)\n",
    "        if np.any(imageArray[h][w] == key) != True:\n",
    "            cleanArray[h][w]=0\n",
    "        else:\n",
    "            counter+=1\n",
    "            cleanArray[h][w]=1\n",
    "        try: \n",
    "            os.remove(f\"./imageSplitted/img{r}_{c}.png\")\n",
    "        except: pass   \n",
    "        w+=1         \n",
    "    h+=1\n",
    "    w=0\n",
    "# imageResult = Image.fromarray(imageArray[3][10], \"RGB\")\n",
    "# imageResult.show() \n",
    "\n",
    "# file = open(\"testSquare.txt\", \"w\")\n",
    "# for row in imageArray[3][10]:\n",
    "#     np.savetxt(file, row)\n",
    "# file.close()  \n",
    "# imageArray[3][10]\n",
    "# if any([0, 0, 0] )\n",
    "# if (imageArray[3][10].find('[0, 0, 0]') != -1):\n",
    "#     print (\"Contains given substring \")\n",
    "# else:\n",
    "#     print (\"Doesn't contains given substring\")\n",
    "# np.char.find(imageArray[3][10], '[0, 0, 0]')\n",
    "\n",
    "# type(imageArray[3][10])\n",
    "# if key in imageArray[3][10]:\n",
    "#     print(True)\n",
    "# result = np.where(imageArray == key)\n",
    "# print('Tuple of arrays returned : ', result)\n",
    "# indices = np.where(np.all(a == c, axis=-1))\n",
    "# np.any(imageArray[3][10] == key, axis=-1)\n",
    "# if np.any(imageArray[0][0] == key) != True:\n",
    "#     print(\"haha\")\n",
    "\n",
    "for c in cleanArray:\n",
    "    print(c)\n",
    "     \n",
    "\n",
    "    \n",
    "\n",
    "\n",
    "\n",
    "        \n",
    "\n",
    "\n",
    "\n",
    "\n",
    "      \n",
    "\n",
    "\n",
    "\n"
   ]
  },
  {
   "cell_type": "code",
   "execution_count": null,
   "metadata": {},
   "outputs": [],
   "source": []
  }
 ],
 "metadata": {
  "kernelspec": {
   "name": "python394jvsc74a57bd0ac59ebe37160ed0dfa835113d9b8498d9f09ceb179beaac4002f036b9467c963",
   "display_name": "Python 3.9.4 64-bit"
  },
  "language_info": {
   "codemirror_mode": {
    "name": "ipython",
    "version": 3
   },
   "file_extension": ".py",
   "mimetype": "text/x-python",
   "name": "python",
   "nbconvert_exporter": "python",
   "pygments_lexer": "ipython3",
   "version": "3.9.4"
  }
 },
 "nbformat": 4,
 "nbformat_minor": 5
}